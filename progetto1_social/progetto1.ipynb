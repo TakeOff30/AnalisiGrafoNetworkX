{
 "cells": [
  {
   "cell_type": "code",
   "execution_count": 8,
   "metadata": {},
   "outputs": [],
   "source": [
    "import pandas as pd\n",
    "import networkx as nx\n",
    "import json\n",
    "import csv\n",
    "import requests\n",
    "from serpapi import GoogleScholarSearch"
   ]
  },
  {
   "cell_type": "markdown",
   "metadata": {},
   "source": [
    "1. A partire da nodes.csv, utilizzare la libreria Python SerpAPI per scaricare, per\n",
    "ciascuno dei 7 autori elencati:\n",
    "- author_id: ID identificativo del profilo Google Scholar\n",
    "- cited_by: numero totale di citazioni ricevute\n",
    "- interests: elenco degli interessi di ciascun autore\n",
    "Sfruttando la libreria Python Pandas, usare la struttura dati DataFrame per\n",
    "aggiornare il file originale con apposite colonne e memorizzarlo nella cartella\n",
    "/data."
   ]
  },
  {
   "cell_type": "code",
   "execution_count": 7,
   "metadata": {},
   "outputs": [
    {
     "data": {
      "text/html": [
       "<div>\n",
       "<style scoped>\n",
       "    .dataframe tbody tr th:only-of-type {\n",
       "        vertical-align: middle;\n",
       "    }\n",
       "\n",
       "    .dataframe tbody tr th {\n",
       "        vertical-align: top;\n",
       "    }\n",
       "\n",
       "    .dataframe thead th {\n",
       "        text-align: right;\n",
       "    }\n",
       "</style>\n",
       "<table border=\"1\" class=\"dataframe\">\n",
       "  <thead>\n",
       "    <tr style=\"text-align: right;\">\n",
       "      <th></th>\n",
       "      <th>name</th>\n",
       "      <th>affiliations</th>\n",
       "    </tr>\n",
       "  </thead>\n",
       "  <tbody>\n",
       "    <tr>\n",
       "      <th>0</th>\n",
       "      <td>David La Barbera</td>\n",
       "      <td>Università Degli Studi Di Udine</td>\n",
       "    </tr>\n",
       "    <tr>\n",
       "      <th>1</th>\n",
       "      <td>Michael Soprano</td>\n",
       "      <td>Postdoctoral Research Fellow at the University...</td>\n",
       "    </tr>\n",
       "    <tr>\n",
       "      <th>2</th>\n",
       "      <td>Kevin Roitero</td>\n",
       "      <td>University of Udine</td>\n",
       "    </tr>\n",
       "    <tr>\n",
       "      <th>3</th>\n",
       "      <td>Stefano Mizzaro</td>\n",
       "      <td>Full professor of Computer Science and Informa...</td>\n",
       "    </tr>\n",
       "    <tr>\n",
       "      <th>4</th>\n",
       "      <td>Damiano Spina</td>\n",
       "      <td>School of Computing Technologies, RMIT University</td>\n",
       "    </tr>\n",
       "    <tr>\n",
       "      <th>5</th>\n",
       "      <td>Gianluca Demartini</td>\n",
       "      <td>Associate Professor at the University of Queen...</td>\n",
       "    </tr>\n",
       "    <tr>\n",
       "      <th>6</th>\n",
       "      <td>Eddy Maddalena</td>\n",
       "      <td>Università degli Studi di Udine, Italy</td>\n",
       "    </tr>\n",
       "  </tbody>\n",
       "</table>\n",
       "</div>"
      ],
      "text/plain": [
       "                 name                                       affiliations\n",
       "0    David La Barbera                    Università Degli Studi Di Udine\n",
       "1     Michael Soprano  Postdoctoral Research Fellow at the University...\n",
       "2       Kevin Roitero                                University of Udine\n",
       "3     Stefano Mizzaro  Full professor of Computer Science and Informa...\n",
       "4       Damiano Spina  School of Computing Technologies, RMIT University\n",
       "5  Gianluca Demartini  Associate Professor at the University of Queen...\n",
       "6      Eddy Maddalena             Università degli Studi di Udine, Italy"
      ]
     },
     "metadata": {},
     "output_type": "display_data"
    }
   ],
   "source": [
    "nodesDf = pd.read_csv(\"./nodes.csv\")\n",
    "display(nodesDf)"
   ]
  },
  {
   "cell_type": "code",
   "execution_count": 55,
   "metadata": {},
   "outputs": [],
   "source": [
    "results = []\n",
    "for index, row in nodesDf.iterrows():\n",
    "    # Per trovare il json\n",
    "    params = {\n",
    "        \"api_key\": \"68a02f21d1aba0067dc456acf08db10a54a40d415213a0ddc8b1bb0ad7ebd15e\",\n",
    "        \"engine\": \"google_scholar_profiles\",\n",
    "        \"hl\" : \"en\",\n",
    "        \"mauthors\" : row['name'],\n",
    "        \"affilations\" : row['affiliations']\n",
    "    }\n",
    "    search = GoogleScholarSearch(params)\n",
    "    result = search.get_dict() #salva i risultati json come dizionario\n",
    "    results.append(result)\n",
    "    \n",
    "# Aggiunta colonne in un dataFrame\n",
    "#aggiungere tutti gli author id in ogni riga\n",
    "#nodesDf['author_id']=nodesDf.apply(risultato, axis=1)"
   ]
  },
  {
   "cell_type": "code",
   "execution_count": 70,
   "metadata": {},
   "outputs": [
    {
     "name": "stdout",
     "output_type": "stream",
     "text": [
      "MvN8wKEAAAAJ\n",
      "138\n",
      "[{'title': 'Computer Science', 'serpapi_link': 'https://serpapi.com/search.json?engine=google_scholar_profiles&hl=en&mauthors=label%3Acomputer_science', 'link': 'https://scholar.google.com/citations?hl=en&view_op=search_authors&mauthors=label:computer_science'}]\n",
      "ocK0qRUAAAAJ\n",
      "208\n",
      "[{'title': 'Computer Science', 'serpapi_link': 'https://serpapi.com/search.json?engine=google_scholar_profiles&hl=en&mauthors=label%3Acomputer_science', 'link': 'https://scholar.google.com/citations?hl=en&view_op=search_authors&mauthors=label:computer_science'}, {'title': 'Crowdsourcing', 'serpapi_link': 'https://serpapi.com/search.json?engine=google_scholar_profiles&hl=en&mauthors=label%3Acrowdsourcing', 'link': 'https://scholar.google.com/citations?hl=en&view_op=search_authors&mauthors=label:crowdsourcing'}]\n",
      "1xd52jMAAAAJ\n",
      "688\n",
      "[{'title': 'Artificial Intelligence', 'serpapi_link': 'https://serpapi.com/search.json?engine=google_scholar_profiles&hl=en&mauthors=label%3Aartificial_intelligence', 'link': 'https://scholar.google.com/citations?hl=en&view_op=search_authors&mauthors=label:artificial_intelligence'}, {'title': 'Crowdsourcing and Human Computation', 'serpapi_link': 'https://serpapi.com/search.json?engine=google_scholar_profiles&hl=en&mauthors=label%3Acrowdsourcing_and_human_computation', 'link': 'https://scholar.google.com/citations?hl=en&view_op=search_authors&mauthors=label:crowdsourcing_and_human_computation'}, {'title': 'Information Retrieval', 'serpapi_link': 'https://serpapi.com/search.json?engine=google_scholar_profiles&hl=en&mauthors=label%3Ainformation_retrieval', 'link': 'https://scholar.google.com/citations?hl=en&view_op=search_authors&mauthors=label:information_retrieval'}]\n",
      "2wvJC6IAAAAJ\n",
      "4735\n",
      "[{'title': 'Information retrieval', 'serpapi_link': 'https://serpapi.com/search.json?engine=google_scholar_profiles&hl=en&mauthors=label%3Ainformation_retrieval', 'link': 'https://scholar.google.com/citations?hl=en&view_op=search_authors&mauthors=label:information_retrieval'}, {'title': 'mobile systems', 'serpapi_link': 'https://serpapi.com/search.json?engine=google_scholar_profiles&hl=en&mauthors=label%3Amobile_systems', 'link': 'https://scholar.google.com/citations?hl=en&view_op=search_authors&mauthors=label:mobile_systems'}, {'title': 'scholarly publishing', 'serpapi_link': 'https://serpapi.com/search.json?engine=google_scholar_profiles&hl=en&mauthors=label%3Ascholarly_publishing', 'link': 'https://scholar.google.com/citations?hl=en&view_op=search_authors&mauthors=label:scholarly_publishing'}, {'title': 'crowdsourcing', 'serpapi_link': 'https://serpapi.com/search.json?engine=google_scholar_profiles&hl=en&mauthors=label%3Acrowdsourcing', 'link': 'https://scholar.google.com/citations?hl=en&view_op=search_authors&mauthors=label:crowdsourcing'}, {'title': 'misinformation and fake news detection', 'serpapi_link': 'https://serpapi.com/search.json?engine=google_scholar_profiles&hl=en&mauthors=label%3Amisinformation_and_fake_news_detection', 'link': 'https://scholar.google.com/citations?hl=en&view_op=search_authors&mauthors=label:misinformation_and_fake_news_detection'}]\n",
      "sLzYrNYAAAAJ\n",
      "2481\n",
      "[{'title': 'Information Retrieval', 'serpapi_link': 'https://serpapi.com/search.json?engine=google_scholar_profiles&hl=en&mauthors=label%3Ainformation_retrieval', 'link': 'https://scholar.google.com/citations?hl=en&view_op=search_authors&mauthors=label:information_retrieval'}, {'title': 'Text Analytics', 'serpapi_link': 'https://serpapi.com/search.json?engine=google_scholar_profiles&hl=en&mauthors=label%3Atext_analytics', 'link': 'https://scholar.google.com/citations?hl=en&view_op=search_authors&mauthors=label:text_analytics'}, {'title': 'Data Science', 'serpapi_link': 'https://serpapi.com/search.json?engine=google_scholar_profiles&hl=en&mauthors=label%3Adata_science', 'link': 'https://scholar.google.com/citations?hl=en&view_op=search_authors&mauthors=label:data_science'}, {'title': 'Evaluation', 'serpapi_link': 'https://serpapi.com/search.json?engine=google_scholar_profiles&hl=en&mauthors=label%3Aevaluation', 'link': 'https://scholar.google.com/citations?hl=en&view_op=search_authors&mauthors=label:evaluation'}, {'title': 'Human-AI Fact-checking', 'serpapi_link': 'https://serpapi.com/search.json?engine=google_scholar_profiles&hl=en&mauthors=label%3Ahuman_ai_fact_checking', 'link': 'https://scholar.google.com/citations?hl=en&view_op=search_authors&mauthors=label:human_ai_fact_checking'}]\n",
      "PCAiILsAAAAJ\n",
      "5342\n",
      "[{'title': 'Information Retrieval', 'serpapi_link': 'https://serpapi.com/search.json?engine=google_scholar_profiles&hl=en&mauthors=label%3Ainformation_retrieval', 'link': 'https://scholar.google.com/citations?hl=en&view_op=search_authors&mauthors=label:information_retrieval'}, {'title': 'Semantic Web', 'serpapi_link': 'https://serpapi.com/search.json?engine=google_scholar_profiles&hl=en&mauthors=label%3Asemantic_web', 'link': 'https://scholar.google.com/citations?hl=en&view_op=search_authors&mauthors=label:semantic_web'}, {'title': 'Human Computation', 'serpapi_link': 'https://serpapi.com/search.json?engine=google_scholar_profiles&hl=en&mauthors=label%3Ahuman_computation', 'link': 'https://scholar.google.com/citations?hl=en&view_op=search_authors&mauthors=label:human_computation'}, {'title': 'Crowdsourcing', 'serpapi_link': 'https://serpapi.com/search.json?engine=google_scholar_profiles&hl=en&mauthors=label%3Acrowdsourcing', 'link': 'https://scholar.google.com/citations?hl=en&view_op=search_authors&mauthors=label:crowdsourcing'}]\n",
      "egHDpFkAAAAJ\n",
      "553\n",
      "[{'title': 'Information Retrieval', 'serpapi_link': 'https://serpapi.com/search.json?engine=google_scholar_profiles&hl=en&mauthors=label%3Ainformation_retrieval', 'link': 'https://scholar.google.com/citations?hl=en&view_op=search_authors&mauthors=label:information_retrieval'}, {'title': 'Crowdsourcing', 'serpapi_link': 'https://serpapi.com/search.json?engine=google_scholar_profiles&hl=en&mauthors=label%3Acrowdsourcing', 'link': 'https://scholar.google.com/citations?hl=en&view_op=search_authors&mauthors=label:crowdsourcing'}, {'title': 'Data Science', 'serpapi_link': 'https://serpapi.com/search.json?engine=google_scholar_profiles&hl=en&mauthors=label%3Adata_science', 'link': 'https://scholar.google.com/citations?hl=en&view_op=search_authors&mauthors=label:data_science'}, {'title': 'Human Computation', 'serpapi_link': 'https://serpapi.com/search.json?engine=google_scholar_profiles&hl=en&mauthors=label%3Ahuman_computation', 'link': 'https://scholar.google.com/citations?hl=en&view_op=search_authors&mauthors=label:human_computation'}, {'title': 'Web science', 'serpapi_link': 'https://serpapi.com/search.json?engine=google_scholar_profiles&hl=en&mauthors=label%3Aweb_science', 'link': 'https://scholar.google.com/citations?hl=en&view_op=search_authors&mauthors=label:web_science'}]\n"
     ]
    }
   ],
   "source": [
    "filtered_results = []\n",
    "for item in results:\n",
    "    for info in item['profiles']:\n",
    "        for index, row in nodesDf.iterrows():\n",
    "            if (info['name'] == row['name'] and info['affiliations'] == row['affiliations']):\n",
    "                print(info['author_id'])\n",
    "                print(info['cited_by'])\n",
    "                print(info['interests'])"
   ]
  },
  {
   "cell_type": "code",
   "execution_count": null,
   "metadata": {},
   "outputs": [],
   "source": []
  }
 ],
 "metadata": {
  "kernelspec": {
   "display_name": "Python 3",
   "language": "python",
   "name": "python3"
  },
  "language_info": {
   "codemirror_mode": {
    "name": "ipython",
    "version": 3
   },
   "file_extension": ".py",
   "mimetype": "text/x-python",
   "name": "python",
   "nbconvert_exporter": "python",
   "pygments_lexer": "ipython3",
   "version": "3.11.2"
  }
 },
 "nbformat": 4,
 "nbformat_minor": 2
}
